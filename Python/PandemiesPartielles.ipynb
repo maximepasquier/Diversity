{
 "metadata": {
  "language_info": {
   "codemirror_mode": {
    "name": "ipython",
    "version": 3
   },
   "file_extension": ".py",
   "mimetype": "text/x-python",
   "name": "python",
   "nbconvert_exporter": "python",
   "pygments_lexer": "ipython3",
   "version": "3.8.5"
  },
  "orig_nbformat": 4,
  "kernelspec": {
   "name": "python3",
   "display_name": "Python 3.8.5 64-bit ('base': conda)"
  },
  "interpreter": {
   "hash": "83f783ff8513835ca211262fa46ed730f0352cd4ac126cc088daa5443e987af3"
  }
 },
 "nbformat": 4,
 "nbformat_minor": 2,
 "cells": [
  {
   "cell_type": "code",
   "execution_count": 121,
   "metadata": {},
   "outputs": [],
   "source": [
    "import pandas as pd\n",
    "import matplotlib.pyplot as plt\n",
    "import numpy as np\n",
    "import math\n",
    "from pathlib import Path"
   ]
  },
  {
   "cell_type": "code",
   "execution_count": 122,
   "metadata": {},
   "outputs": [],
   "source": [
    "path1_4 = str(Path(\"./\").parent.absolute().parents[0]) + \"/Multiples_Simulations/Simulations/Diversite/PandemiePartielle/perfect_mix/charge_virale1/diversite4\"\n",
    "path1_8 = str(Path(\"./\").parent.absolute().parents[0]) + \"/Multiples_Simulations/Simulations/Diversite/PandemiePartielle/perfect_mix/charge_virale1/diversite8\"\n",
    "path1_16 = str(Path(\"./\").parent.absolute().parents[0]) + \"/Multiples_Simulations/Simulations/Diversite/PandemiePartielle/perfect_mix/charge_virale1/diversite16\"\n",
    "path1_20 = str(Path(\"./\").parent.absolute().parents[0]) + \"/Multiples_Simulations/Simulations/Diversite/PandemiePartielle/perfect_mix/charge_virale1/diversite20\"\n",
    "path1_24 = str(Path(\"./\").parent.absolute().parents[0]) + \"/Multiples_Simulations/Simulations/Diversite/PandemiePartielle/perfect_mix/charge_virale1/diversite24\"\n",
    "path1_28 = str(Path(\"./\").parent.absolute().parents[0]) + \"/Multiples_Simulations/Simulations/Diversite/PandemiePartielle/perfect_mix/charge_virale1/diversite28\"\n",
    "path1_32 = str(Path(\"./\").parent.absolute().parents[0]) + \"/Multiples_Simulations/Simulations/Diversite/PandemiePartielle/perfect_mix/charge_virale1/diversite32\"\n",
    "path1_36 = str(Path(\"./\").parent.absolute().parents[0]) + \"/Multiples_Simulations/Simulations/Diversite/PandemiePartielle/perfect_mix/charge_virale1/diversite36\"\n",
    "path1_40 = str(Path(\"./\").parent.absolute().parents[0]) + \"/Multiples_Simulations/Simulations/Diversite/PandemiePartielle/perfect_mix/charge_virale1/diversite40\"\n",
    "path1_1000 = str(Path(\"./\").parent.absolute().parents[0]) + \"/Multiples_Simulations/Simulations/Diversite/PandemiePartielle/perfect_mix/charge_virale1/diversite1000\"\n",
    "\n",
    "path075_4 = str(Path(\"./\").parent.absolute().parents[0]) + \"/Multiples_Simulations/Simulations/Diversite/PandemiePartielle/perfect_mix/charge_virale075/diversite4\"\n",
    "path075_8 = str(Path(\"./\").parent.absolute().parents[0]) + \"/Multiples_Simulations/Simulations/Diversite/PandemiePartielle/perfect_mix/charge_virale075/diversite8\"\n",
    "path075_16 = str(Path(\"./\").parent.absolute().parents[0]) + \"/Multiples_Simulations/Simulations/Diversite/PandemiePartielle/perfect_mix/charge_virale075/diversite16\"\n",
    "path075_20 = str(Path(\"./\").parent.absolute().parents[0]) + \"/Multiples_Simulations/Simulations/Diversite/PandemiePartielle/perfect_mix/charge_virale075/diversite20\"\n",
    "path075_24 = str(Path(\"./\").parent.absolute().parents[0]) + \"/Multiples_Simulations/Simulations/Diversite/PandemiePartielle/perfect_mix/charge_virale075/diversite24\"\n",
    "path075_28 = str(Path(\"./\").parent.absolute().parents[0]) + \"/Multiples_Simulations/Simulations/Diversite/PandemiePartielle/perfect_mix/charge_virale075/diversite28\"\n",
    "path075_32 = str(Path(\"./\").parent.absolute().parents[0]) + \"/Multiples_Simulations/Simulations/Diversite/PandemiePartielle/perfect_mix/charge_virale075/diversite32\"\n",
    "path075_36 = str(Path(\"./\").parent.absolute().parents[0]) + \"/Multiples_Simulations/Simulations/Diversite/PandemiePartielle/perfect_mix/charge_virale075/diversite36\"\n",
    "path075_40 = str(Path(\"./\").parent.absolute().parents[0]) + \"/Multiples_Simulations/Simulations/Diversite/PandemiePartielle/perfect_mix/charge_virale075/diversite40\"\n",
    "path075_1000 = str(Path(\"./\").parent.absolute().parents[0]) + \"/Multiples_Simulations/Simulations/Diversite/PandemiePartielle/perfect_mix/charge_virale075/diversite1000\"\n",
    "\n",
    "path05_4 = str(Path(\"./\").parent.absolute().parents[0]) + \"/Multiples_Simulations/Simulations/Diversite/PandemiePartielle/perfect_mix/charge_virale05/diversite4\"\n",
    "path05_8 = str(Path(\"./\").parent.absolute().parents[0]) + \"/Multiples_Simulations/Simulations/Diversite/PandemiePartielle/perfect_mix/charge_virale05/diversite8\"\n",
    "path05_16 = str(Path(\"./\").parent.absolute().parents[0]) + \"/Multiples_Simulations/Simulations/Diversite/PandemiePartielle/perfect_mix/charge_virale05/diversite16\"\n",
    "path05_20 = str(Path(\"./\").parent.absolute().parents[0]) + \"/Multiples_Simulations/Simulations/Diversite/PandemiePartielle/perfect_mix/charge_virale05/diversite20\"\n",
    "path05_24 = str(Path(\"./\").parent.absolute().parents[0]) + \"/Multiples_Simulations/Simulations/Diversite/PandemiePartielle/perfect_mix/charge_virale05/diversite24\"\n",
    "path05_28 = str(Path(\"./\").parent.absolute().parents[0]) + \"/Multiples_Simulations/Simulations/Diversite/PandemiePartielle/perfect_mix/charge_virale05/diversite28\"\n",
    "path05_32 = str(Path(\"./\").parent.absolute().parents[0]) + \"/Multiples_Simulations/Simulations/Diversite/PandemiePartielle/perfect_mix/charge_virale05/diversite32\"\n",
    "path05_36 = str(Path(\"./\").parent.absolute().parents[0]) + \"/Multiples_Simulations/Simulations/Diversite/PandemiePartielle/perfect_mix/charge_virale05/diversite36\"\n",
    "path05_40 = str(Path(\"./\").parent.absolute().parents[0]) + \"/Multiples_Simulations/Simulations/Diversite/PandemiePartielle/perfect_mix/charge_virale05/diversite40\"\n",
    "path05_1000 = str(Path(\"./\").parent.absolute().parents[0]) + \"/Multiples_Simulations/Simulations/Diversite/PandemiePartielle/perfect_mix/charge_virale05/diversite1000\""
   ]
  },
  {
   "cell_type": "code",
   "execution_count": 123,
   "metadata": {},
   "outputs": [],
   "source": [
    "path = path05_1000\n",
    "nb_echecs = pd.read_csv(path + \"/data_csv/m_nombre_echec_file.csv\", dtype=int)\n",
    "max_contamines = pd.read_csv(path + \"/data_csv/m_max_contamines_file.csv\", dtype=int)\n",
    "iteration_max_contamines = pd.read_csv(path + \"/data_csv/m_iteration_max_contamines_file.csv\", dtype=int)\n",
    "iteration_fin_simulation = pd.read_csv(path + \"/data_csv/m_iteration_fin_simulation_file.csv\", dtype=int)\n",
    "taille_pandemie = pd.read_csv(path + \"/data_csv/m_taille_pandemie_file.csv\", dtype=int)"
   ]
  },
  {
   "cell_type": "code",
   "execution_count": 124,
   "metadata": {},
   "outputs": [
    {
     "output_type": "execute_result",
     "data": {
      "text/plain": [
       "Taille de la pandémie    11401.21\n",
       "dtype: float64"
      ]
     },
     "metadata": {},
     "execution_count": 124
    }
   ],
   "source": [
    "taille_pandemie.mean()"
   ]
  }
 ]
}