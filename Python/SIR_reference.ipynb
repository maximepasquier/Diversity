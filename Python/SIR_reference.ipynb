version https://git-lfs.github.com/spec/v1
oid sha256:fe4ecb8bf6cedb1f2eca926abda45a24c33216155621ad42902579bd27c0ace0
size 170971800
