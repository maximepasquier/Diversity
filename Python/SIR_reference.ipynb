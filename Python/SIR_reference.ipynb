version https://git-lfs.github.com/spec/v1
oid sha256:decbba681b0b0c837f44c354f6aa9db1d27b7957ca61970f2b0a92d2f1a27afd
size 4468546
