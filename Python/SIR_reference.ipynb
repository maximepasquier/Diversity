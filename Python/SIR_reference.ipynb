version https://git-lfs.github.com/spec/v1
oid sha256:1a2f950c3cf9972acb977dfccce2d3ebfd21e124d0a65ac079935e828b264790
size 170751707
