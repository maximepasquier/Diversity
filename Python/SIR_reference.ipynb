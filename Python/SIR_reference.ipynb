version https://git-lfs.github.com/spec/v1
oid sha256:0d36fd83ea28bc667f985351049e1024f1e33af8c6804b84c4e09ed9b84116f1
size 5746547
