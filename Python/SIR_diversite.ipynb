version https://git-lfs.github.com/spec/v1
oid sha256:68ceaba1ad473825c8caf681ea51a3623bb4a5d8f04a18564af52004e58e8dea
size 3282467
