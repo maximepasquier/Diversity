{
 "metadata": {
  "language_info": {
   "codemirror_mode": {
    "name": "ipython",
    "version": 3
   },
   "file_extension": ".py",
   "mimetype": "text/x-python",
   "name": "python",
   "nbconvert_exporter": "python",
   "pygments_lexer": "ipython3",
   "version": "3.9.2"
  },
  "orig_nbformat": 2,
  "kernelspec": {
   "name": "python392jvsc74a57bd038206c5a7ee03045234de238552c758d4980036e4903a200b5c83a33d3c7a2f5",
   "display_name": "Python 3.9.2 64-bit ('my-rdkit-env': conda)"
  }
 },
 "nbformat": 4,
 "nbformat_minor": 2,
 "cells": [
  {
   "cell_type": "code",
   "execution_count": null,
   "metadata": {},
   "outputs": [],
   "source": [
    "import pandas as pd\n",
    "import matplotlib.pyplot as plt\n",
    "import numpy as np\n",
    "import math"
   ]
  },
  {
   "source": [
    "# 5000 mouvements"
   ],
   "cell_type": "markdown",
   "metadata": {}
  },
  {
   "source": [
    "## Path simulation 1\n",
    "Chemin au dossier de la simulation"
   ],
   "cell_type": "markdown",
   "metadata": {}
  },
  {
   "cell_type": "code",
   "execution_count": null,
   "metadata": {},
   "outputs": [],
   "source": [
    "path1 = \"/home/maxime/Documents/Automate_Cellulaire/Diversity/Simulations/SI_Reference/5000mouvements/1\""
   ]
  },
  {
   "source": [
    "## Temps d'exécutions (ms)"
   ],
   "cell_type": "markdown",
   "metadata": {}
  },
  {
   "cell_type": "code",
   "execution_count": null,
   "metadata": {},
   "outputs": [],
   "source": [
    "temps = pd.read_csv(path1 + \"/data_csv/times.csv\")\n",
    "temps_data = pd.DataFrame(temps)\n",
    "print(temps_data)"
   ]
  },
  {
   "source": [
    "## Modèle SI"
   ],
   "cell_type": "markdown",
   "metadata": {}
  },
  {
   "cell_type": "code",
   "execution_count": null,
   "metadata": {},
   "outputs": [],
   "source": [
    "contamine = pd.read_csv(path1 + \"/data_csv/m_nombre_contamine.csv\", dtype=int)\n",
    "\n",
    "def infection(S, I, N, iterations):    \n",
    "    for i in range(iterations):\n",
    "        S, I = S - beta * ((S * I) / N), I + beta * ((S * I) / N)\n",
    "        S_comp.append(S)\n",
    "        I_comp.append(I)\n",
    "\n",
    "N = 5000 # S + I = N\n",
    "beta = 0.516\n",
    "iterations = 40\n",
    "\n",
    "S = N - 1\n",
    "I = 1\n",
    "\n",
    "S_comp = [] # infected compartment\n",
    "I_comp = [] # susceptible compartment\n",
    "\n",
    "nombre_individus_S = N - contamine\n",
    "\n",
    "infection(S, I, N, iterations)\n",
    "figure = plt.figure(figsize=(20, 10))\n",
    "\n",
    "I_line, = plt.plot(I_comp, label='I(t)')\n",
    "S_line, = plt.plot(S_comp, label='S(t)')\n",
    "I_model, = plt.plot(contamine, label='I_model(t)')\n",
    "S_model, = plt.plot(nombre_individus_S, label='S_model(t)')\n",
    "\n",
    "plt.legend(handles=[I_line, S_line, I_model, S_model])\n",
    "\n",
    "plt.ticklabel_format(style='sci', axis='y', scilimits=(0,0)) # use scientific notation\n",
    "\n",
    "plt.show()\n",
    "\n",
    "# MSE I\n",
    "#print(\"MSE I : \", np.square(np.subtract(contamine['Nombre de contaminés'].values.tolist(),I_comp)).mean())\n",
    "\n",
    "# MSE S\n",
    "#print(\"MSE S : \", np.square(np.subtract(nombre_individus['Nombre de contaminés'].values.tolist(),S_comp)).mean())"
   ]
  },
  {
   "source": [
    "## Path simulation 2\n",
    "Chemin au dossier de la simulation"
   ],
   "cell_type": "markdown",
   "metadata": {}
  },
  {
   "cell_type": "code",
   "execution_count": null,
   "metadata": {},
   "outputs": [],
   "source": [
    "path2 = \"/home/maxime/Documents/Automate_Cellulaire/Diversity/Simulations/SI_Reference/5000mouvements/2\""
   ]
  },
  {
   "source": [
    "## Temps d'exécutions (ms)"
   ],
   "cell_type": "markdown",
   "metadata": {}
  },
  {
   "cell_type": "code",
   "execution_count": null,
   "metadata": {},
   "outputs": [],
   "source": [
    "temps = pd.read_csv(path2 + \"/data_csv/times.csv\")\n",
    "temps_data = pd.DataFrame(temps)\n",
    "print(temps_data)"
   ]
  },
  {
   "source": [
    "## Modèle SI"
   ],
   "cell_type": "markdown",
   "metadata": {}
  },
  {
   "cell_type": "code",
   "execution_count": null,
   "metadata": {},
   "outputs": [],
   "source": [
    "contamine = pd.read_csv(path2 + \"/data_csv/m_nombre_contamine.csv\", dtype=int)\n",
    "\n",
    "def infection(S, I, N, iterations):    \n",
    "    for i in range(iterations):\n",
    "        S, I = S - beta * ((S * I) / N), I + beta * ((S * I) / N)\n",
    "        S_comp.append(S)\n",
    "        I_comp.append(I)\n",
    "\n",
    "N = 20000 # S + I = N\n",
    "beta = 0.362\n",
    "iterations = 60\n",
    "\n",
    "S = N - 1\n",
    "I = 1\n",
    "\n",
    "S_comp = [] # infected compartment\n",
    "I_comp = [] # susceptible compartment\n",
    "\n",
    "nombre_individus_S = N - contamine\n",
    "\n",
    "infection(S, I, N, iterations)\n",
    "figure = plt.figure(figsize=(20, 10))\n",
    "\n",
    "I_line, = plt.plot(I_comp, label='I(t)')\n",
    "S_line, = plt.plot(S_comp, label='S(t)')\n",
    "I_model, = plt.plot(contamine, label='I_model(t)')\n",
    "S_model, = plt.plot(nombre_individus_S, label='S_model(t)')\n",
    "\n",
    "plt.legend(handles=[I_line, S_line, I_model, S_model])\n",
    "\n",
    "plt.ticklabel_format(style='sci', axis='y', scilimits=(0,0)) # use scientific notation\n",
    "\n",
    "plt.show()\n",
    "\n",
    "# MSE I\n",
    "#print(\"MSE I : \", np.square(np.subtract(contamine['Nombre de contaminés'].values.tolist(),I_comp)).mean())\n",
    "\n",
    "# MSE S\n",
    "#print(\"MSE S : \", np.square(np.subtract(nombre_individus['Nombre de contaminés'].values.tolist(),S_comp)).mean())"
   ]
  },
  {
   "source": [
    "## Path simulation 3\n",
    "Chemin au dossier de la simulation"
   ],
   "cell_type": "markdown",
   "metadata": {}
  },
  {
   "cell_type": "code",
   "execution_count": null,
   "metadata": {},
   "outputs": [],
   "source": [
    "path3 = \"/home/maxime/Documents/Automate_Cellulaire/Diversity/Simulations/SI_Reference/5000mouvements/3\""
   ]
  },
  {
   "source": [
    "## Temps d'exécutions (ms)"
   ],
   "cell_type": "markdown",
   "metadata": {}
  },
  {
   "cell_type": "code",
   "execution_count": null,
   "metadata": {},
   "outputs": [],
   "source": [
    "temps = pd.read_csv(path3 + \"/data_csv/times.csv\")\n",
    "temps_data = pd.DataFrame(temps)\n",
    "print(temps_data)"
   ]
  },
  {
   "source": [
    "## Modèle SI"
   ],
   "cell_type": "markdown",
   "metadata": {}
  },
  {
   "cell_type": "code",
   "execution_count": null,
   "metadata": {},
   "outputs": [],
   "source": [
    "contamine = pd.read_csv(path3 + \"/data_csv/m_nombre_contamine.csv\", dtype=int)\n",
    "\n",
    "def infection(S, I, N, iterations):    \n",
    "    for i in range(iterations):\n",
    "        S, I = S - beta * ((S * I) / N), I + beta * ((S * I) / N)\n",
    "        S_comp.append(S)\n",
    "        I_comp.append(I)\n",
    "\n",
    "N = 50000 # S + I = N\n",
    "beta = 0.614\n",
    "iterations = 40\n",
    "\n",
    "S = N - 1\n",
    "I = 1\n",
    "\n",
    "S_comp = [] # infected compartment\n",
    "I_comp = [] # susceptible compartment\n",
    "\n",
    "nombre_individus_S = N - contamine\n",
    "\n",
    "infection(S, I, N, iterations)\n",
    "figure = plt.figure(figsize=(20, 10))\n",
    "\n",
    "I_line, = plt.plot(I_comp, label='I(t)')\n",
    "S_line, = plt.plot(S_comp, label='S(t)')\n",
    "I_model, = plt.plot(contamine, label='I_model(t)')\n",
    "S_model, = plt.plot(nombre_individus_S, label='S_model(t)')\n",
    "\n",
    "plt.legend(handles=[I_line, S_line, I_model, S_model])\n",
    "\n",
    "plt.ticklabel_format(style='sci', axis='y', scilimits=(0,0)) # use scientific notation\n",
    "\n",
    "plt.show()\n",
    "\n",
    "# MSE I\n",
    "#print(\"MSE I : \", np.square(np.subtract(contamine['Nombre de contaminés'].values.tolist(),I_comp)).mean())\n",
    "\n",
    "# MSE S\n",
    "#print(\"MSE S : \", np.square(np.subtract(nombre_individus['Nombre de contaminés'].values.tolist(),S_comp)).mean())"
   ]
  },
  {
   "source": [
    "## Path simulation 4\n",
    "Chemin au dossier de la simulation"
   ],
   "cell_type": "markdown",
   "metadata": {}
  },
  {
   "cell_type": "code",
   "execution_count": null,
   "metadata": {},
   "outputs": [],
   "source": [
    "path4 = \"/home/maxime/Documents/Automate_Cellulaire/Diversity/Simulations/SI_Reference/5000mouvements/4\""
   ]
  },
  {
   "source": [
    "## Temps d'exécutions (ms)"
   ],
   "cell_type": "markdown",
   "metadata": {}
  },
  {
   "cell_type": "code",
   "execution_count": null,
   "metadata": {},
   "outputs": [],
   "source": [
    "temps = pd.read_csv(path4 + \"/data_csv/times.csv\")\n",
    "temps_data = pd.DataFrame(temps)\n",
    "print(temps_data)"
   ]
  },
  {
   "source": [
    "## Modèle SI"
   ],
   "cell_type": "markdown",
   "metadata": {}
  },
  {
   "cell_type": "code",
   "execution_count": null,
   "metadata": {},
   "outputs": [],
   "source": [
    "contamine = pd.read_csv(path4 + \"/data_csv/m_nombre_contamine.csv\", dtype=int)\n",
    "\n",
    "def infection(S, I, N, iterations):    \n",
    "    for i in range(iterations):\n",
    "        S, I = S - beta * ((S * I) / N), I + beta * ((S * I) / N)\n",
    "        S_comp.append(S)\n",
    "        I_comp.append(I)\n",
    "\n",
    "N = 100000 # S + I = N\n",
    "beta = 0.465\n",
    "iterations = 50\n",
    "\n",
    "S = N - 1\n",
    "I = 1\n",
    "\n",
    "S_comp = [] # infected compartment\n",
    "I_comp = [] # susceptible compartment\n",
    "\n",
    "nombre_individus_S = N - contamine\n",
    "\n",
    "infection(S, I, N, iterations)\n",
    "figure = plt.figure(figsize=(20, 10))\n",
    "\n",
    "I_line, = plt.plot(I_comp, label='I(t)')\n",
    "S_line, = plt.plot(S_comp, label='S(t)')\n",
    "I_model, = plt.plot(contamine, label='I_model(t)')\n",
    "S_model, = plt.plot(nombre_individus_S, label='S_model(t)')\n",
    "\n",
    "plt.legend(handles=[I_line, S_line, I_model, S_model])\n",
    "\n",
    "plt.ticklabel_format(style='sci', axis='y', scilimits=(0,0)) # use scientific notation\n",
    "\n",
    "plt.show()\n",
    "\n",
    "# MSE I\n",
    "#print(\"MSE I : \", np.square(np.subtract(contamine['Nombre de contaminés'].values.tolist(),I_comp)).mean())\n",
    "\n",
    "# MSE S\n",
    "#print(\"MSE S : \", np.square(np.subtract(nombre_individus['Nombre de contaminés'].values.tolist(),S_comp)).mean())"
   ]
  }
 ]
}