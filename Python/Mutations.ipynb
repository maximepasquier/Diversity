{
 "metadata": {
  "language_info": {
   "codemirror_mode": {
    "name": "ipython",
    "version": 3
   },
   "file_extension": ".py",
   "mimetype": "text/x-python",
   "name": "python",
   "nbconvert_exporter": "python",
   "pygments_lexer": "ipython3",
   "version": "3.8.5"
  },
  "orig_nbformat": 4,
  "kernelspec": {
   "name": "python3",
   "display_name": "Python 3.8.5 64-bit ('base': conda)"
  },
  "interpreter": {
   "hash": "83f783ff8513835ca211262fa46ed730f0352cd4ac126cc088daa5443e987af3"
  }
 },
 "nbformat": 4,
 "nbformat_minor": 2,
 "cells": [
  {
   "cell_type": "code",
   "execution_count": 41,
   "metadata": {},
   "outputs": [],
   "source": [
    "import pandas as pd\n",
    "import matplotlib.pyplot as plt\n",
    "import numpy as np\n",
    "import math\n",
    "from pathlib import Path"
   ]
  },
  {
   "cell_type": "code",
   "execution_count": 42,
   "metadata": {},
   "outputs": [],
   "source": [
    "path0 = str(Path(\"./\").parent.absolute().parents[0]) + \"/Multiples_Simulations/Simulations/Mutation/ImmunisationGroupe/zero\"\n",
    "path1 = str(Path(\"./\").parent.absolute().parents[0]) + \"/Multiples_Simulations/Simulations/Mutation/ImmunisationGroupe/moins1\"\n",
    "path2 = str(Path(\"./\").parent.absolute().parents[0]) + \"/Multiples_Simulations/Simulations/Mutation/ImmunisationGroupe/moins2\"\n",
    "path3 = str(Path(\"./\").parent.absolute().parents[0]) + \"/Multiples_Simulations/Simulations/Mutation/ImmunisationGroupe/moins3\"\n",
    "path4 = str(Path(\"./\").parent.absolute().parents[0]) + \"/Multiples_Simulations/Simulations/Mutation/ImmunisationGroupe/moins4\"\n",
    "path5 = str(Path(\"./\").parent.absolute().parents[0]) + \"/Multiples_Simulations/Simulations/Mutation/ImmunisationGroupe/moins5\""
   ]
  },
  {
   "cell_type": "code",
   "execution_count": 43,
   "metadata": {},
   "outputs": [],
   "source": [
    "path = path5\n",
    "iteration_fin_simulation = pd.read_csv(path + \"/data_csv/m_iteration_fin_simulation_file.csv\", dtype=int)\n",
    "taille_pandemie = pd.read_csv(path + \"/data_csv/m_taille_pandemie_file.csv\", dtype=int)\n",
    "nombre_max_AP = pd.read_csv(path + \"/data_csv/m_nombre_AP_diff_file.csv\", dtype=int)\n",
    "nombre_de_fois_contamines = pd.read_csv(path + \"/data_csv/m_nombre_de_fois_contamine_file.csv\", dtype=float)"
   ]
  },
  {
   "cell_type": "code",
   "execution_count": 44,
   "metadata": {},
   "outputs": [
    {
     "output_type": "execute_result",
     "data": {
      "text/plain": [
       "Taille de la pandémie    49452.06\n",
       "dtype: float64"
      ]
     },
     "metadata": {},
     "execution_count": 44
    }
   ],
   "source": [
    "taille_pandemie.mean()"
   ]
  },
  {
   "cell_type": "code",
   "execution_count": 45,
   "metadata": {},
   "outputs": [
    {
     "output_type": "execute_result",
     "data": {
      "text/plain": [
       "Iteration_fin    4923.45\n",
       "dtype: float64"
      ]
     },
     "metadata": {},
     "execution_count": 45
    }
   ],
   "source": [
    "iteration_fin_simulation.mean()"
   ]
  },
  {
   "cell_type": "code",
   "execution_count": 46,
   "metadata": {},
   "outputs": [
    {
     "output_type": "execute_result",
     "data": {
      "text/plain": [
       "Nombre AP    3.04\n",
       "dtype: float64"
      ]
     },
     "metadata": {},
     "execution_count": 46
    }
   ],
   "source": [
    "nombre_max_AP.mean()"
   ]
  },
  {
   "cell_type": "code",
   "execution_count": 47,
   "metadata": {},
   "outputs": [
    {
     "output_type": "execute_result",
     "data": {
      "text/plain": [
       "Individus    0.555983\n",
       "dtype: float64"
      ]
     },
     "metadata": {},
     "execution_count": 47
    }
   ],
   "source": [
    "nombre_de_fois_contamines.mean()"
   ]
  },
  {
   "cell_type": "code",
   "execution_count": 48,
   "metadata": {},
   "outputs": [
    {
     "output_type": "execute_result",
     "data": {
      "text/plain": [
       "Taille de la pandémie    29834.884464\n",
       "dtype: float64"
      ]
     },
     "metadata": {},
     "execution_count": 48
    }
   ],
   "source": [
    "taille_pandemie.std()"
   ]
  }
 ]
}