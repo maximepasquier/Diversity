{
 "metadata": {
  "language_info": {
   "codemirror_mode": {
    "name": "ipython",
    "version": 3
   },
   "file_extension": ".py",
   "mimetype": "text/x-python",
   "name": "python",
   "nbconvert_exporter": "python",
   "pygments_lexer": "ipython3",
   "version": "3.8.5"
  },
  "orig_nbformat": 4,
  "kernelspec": {
   "name": "python3",
   "display_name": "Python 3.8.5 64-bit ('base': conda)"
  },
  "interpreter": {
   "hash": "83f783ff8513835ca211262fa46ed730f0352cd4ac126cc088daa5443e987af3"
  }
 },
 "nbformat": 4,
 "nbformat_minor": 2,
 "cells": [
  {
   "cell_type": "code",
   "execution_count": 96,
   "metadata": {},
   "outputs": [],
   "source": [
    "import pandas as pd\n",
    "import matplotlib.pyplot as plt\n",
    "import numpy as np\n",
    "import math\n",
    "from pathlib import Path"
   ]
  },
  {
   "cell_type": "code",
   "execution_count": 97,
   "metadata": {},
   "outputs": [],
   "source": [
    "path0 = str(Path(\"./\").parent.absolute().parents[0]) + \"/Multiples_Simulations/Simulations/Mutation/ImmunisationSimple/zero\"\n",
    "path1 = str(Path(\"./\").parent.absolute().parents[0]) + \"/Multiples_Simulations/Simulations/Mutation/ImmunisationSimple/moins1\"\n",
    "path2 = str(Path(\"./\").parent.absolute().parents[0]) + \"/Multiples_Simulations/Simulations/Mutation/ImmunisationSimple/moins2\"\n",
    "path3 = str(Path(\"./\").parent.absolute().parents[0]) + \"/Multiples_Simulations/Simulations/Mutation/ImmunisationSimple/moins3\"\n",
    "path4 = str(Path(\"./\").parent.absolute().parents[0]) + \"/Multiples_Simulations/Simulations/Mutation/ImmunisationSimple/moins4\"\n",
    "path5 = str(Path(\"./\").parent.absolute().parents[0]) + \"/Multiples_Simulations/Simulations/Mutation/ImmunisationSimple/moins5\""
   ]
  },
  {
   "cell_type": "code",
   "execution_count": 98,
   "metadata": {},
   "outputs": [],
   "source": [
    "path = path5\n",
    "iteration_fin_simulation = pd.read_csv(path + \"/data_csv/m_iteration_fin_simulation_file.csv\", dtype=int)\n",
    "taille_pandemie = pd.read_csv(path + \"/data_csv/m_taille_pandemie_file.csv\", dtype=int)\n",
    "nombre_max_AP = pd.read_csv(path + \"/data_csv/m_nombre_AP_diff_file.csv\", dtype=int)\n",
    "nombre_de_fois_contamines = pd.read_csv(path + \"/data_csv/m_nombre_de_fois_contamine_file.csv\", dtype=float)"
   ]
  },
  {
   "cell_type": "code",
   "execution_count": 99,
   "metadata": {},
   "outputs": [
    {
     "output_type": "execute_result",
     "data": {
      "text/plain": [
       "Taille de la pandémie    38589.042674\n",
       "dtype: float64"
      ]
     },
     "metadata": {},
     "execution_count": 99
    }
   ],
   "source": [
    "taille_pandemie.std()"
   ]
  },
  {
   "cell_type": "code",
   "execution_count": 100,
   "metadata": {},
   "outputs": [
    {
     "output_type": "execute_result",
     "data": {
      "text/plain": [
       "Iteration_fin    1289.93018\n",
       "dtype: float64"
      ]
     },
     "metadata": {},
     "execution_count": 100
    }
   ],
   "source": [
    "iteration_fin_simulation.std()"
   ]
  },
  {
   "cell_type": "code",
   "execution_count": 101,
   "metadata": {},
   "outputs": [
    {
     "output_type": "execute_result",
     "data": {
      "text/plain": [
       "Nombre AP    18.61511\n",
       "dtype: float64"
      ]
     },
     "metadata": {},
     "execution_count": 101
    }
   ],
   "source": [
    "nombre_max_AP.std()"
   ]
  },
  {
   "cell_type": "code",
   "execution_count": 102,
   "metadata": {},
   "outputs": [
    {
     "output_type": "execute_result",
     "data": {
      "text/plain": [
       "Individus    3.573237\n",
       "dtype: float64"
      ]
     },
     "metadata": {},
     "execution_count": 102
    }
   ],
   "source": [
    "nombre_de_fois_contamines.std()"
   ]
  }
 ]
}