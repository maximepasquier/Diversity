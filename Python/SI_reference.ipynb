version https://git-lfs.github.com/spec/v1
oid sha256:ede7a8376aa83373245d10ae40988ced0fc547e7a968b90640e11b0fa94d9a54
size 1482929
