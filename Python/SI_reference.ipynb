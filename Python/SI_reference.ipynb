version https://git-lfs.github.com/spec/v1
oid sha256:630c51d0c5dc5a2b4a372d9cd5773b2d9e287107ec00c519895f78235ea3b8fa
size 1457402
