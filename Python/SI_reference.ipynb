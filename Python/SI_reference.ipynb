version https://git-lfs.github.com/spec/v1
oid sha256:20c69b53c1ba5c7c0362c9f8770a19d249bc63896a168d8bf67d5dc19b4f18a1
size 1979202
