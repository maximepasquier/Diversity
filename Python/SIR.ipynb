{
 "metadata": {
  "language_info": {
   "codemirror_mode": {
    "name": "ipython",
    "version": 3
   },
   "file_extension": ".py",
   "mimetype": "text/x-python",
   "name": "python",
   "nbconvert_exporter": "python",
   "pygments_lexer": "ipython3",
   "version": 3
  },
  "orig_nbformat": 2
 },
 "nbformat": 4,
 "nbformat_minor": 2,
 "cells": [
  {
   "cell_type": "code",
   "execution_count": null,
   "metadata": {},
   "outputs": [],
   "source": [
    "import pandas as pd\n",
    "import matplotlib.pyplot as plt\n",
    "import numpy as np\n",
    "import math"
   ]
  },
  {
   "source": [
    "## Path \n",
    "Chemin au dossier de la simulation"
   ],
   "cell_type": "markdown",
   "metadata": {}
  },
  {
   "cell_type": "code",
   "execution_count": null,
   "metadata": {},
   "outputs": [],
   "source": [
    "path = \"/home/maxime/Documents/Automate_Cellulaire/Diversity/Simulations/SIR_Reference/1\""
   ]
  },
  {
   "source": [
    "## Temps d'exécutions (ms)"
   ],
   "cell_type": "markdown",
   "metadata": {}
  },
  {
   "cell_type": "code",
   "execution_count": null,
   "metadata": {},
   "outputs": [],
   "source": [
    "temps = pd.read_csv(path + \"/data_csv/times.csv\")\n",
    "temps_data = pd.DataFrame(temps)\n",
    "print(temps_data)"
   ]
  },
  {
   "source": [
    "## Modèle SIR"
   ],
   "cell_type": "markdown",
   "metadata": {}
  },
  {
   "cell_type": "code",
   "execution_count": null,
   "metadata": {},
   "outputs": [],
   "source": [
    "nombre_individus = 5000\n",
    "\n",
    "contamine = pd.read_csv(path + \"/data_csv/m_nombre_contamine.csv\", dtype=int)\n",
    "recovered = pd.read_csv(path + \"/data_csv/m_SIR_recovered_file.csv\", dtype=int)\n",
    "\n",
    "nombre_individus_data = nombre_individus - contamine\n",
    "nombre_individus_data = nombre_individus_data['Nombre de contaminés'].subtract(recovered['Recovered'])\n",
    "\n",
    "N = 5000 # S + I = N\n",
    "S = N - 1\n",
    "I = 1\n",
    "R = 0\n",
    "beta = 0.55\n",
    "gamma = 0.07\n",
    "iterations = 100\n",
    "\n",
    "S_comp = [] # infected compartment\n",
    "I_comp = [] # susceptible compartment\n",
    "R_comp = [] # recovered compartment\n",
    "\n",
    "def infection(S, I, R, N, iterations):\n",
    "    for i in range(iterations):\n",
    "        S, I, R = S - beta * ((S * I) / N), I + beta * ((S * I) / N) - gamma * I, R + gamma * I \n",
    "        S_comp.append(S)\n",
    "        I_comp.append(I)\n",
    "        R_comp.append(R)\n",
    "\n",
    "infection(S, I, R, N, iterations)\n",
    "figure = plt.figure(figsize=(20, 10))\n",
    "\n",
    "I_line, = plt.plot(I_comp, label='I(t)')\n",
    "S_line, = plt.plot(S_comp, label='S(t)')\n",
    "R_line, = plt.plot(R_comp, label='R(t)')\n",
    "I_model, = plt.plot(contamine, label='I_model(t)')\n",
    "S_model, = plt.plot(nombre_individus_data, label='S_model(t)')\n",
    "R_model, = plt.plot(recovered, label='R_model(t)')\n",
    "\n",
    "\n",
    "plt.legend(handles=[I_line, S_line, R_line, I_model, S_model, R_model])\n",
    "\n",
    "plt.ticklabel_format(style='sci', axis='y', scilimits=(0,0)) # use scientific notation\n",
    "\n",
    "plt.savefig('SIR_model.png', dpi=300, bbox_inches='tight')\n",
    "\n",
    "plt.show()"
   ]
  }
 ]
}